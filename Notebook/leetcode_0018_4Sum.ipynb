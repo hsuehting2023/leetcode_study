{
  "nbformat": 4,
  "nbformat_minor": 0,
  "metadata": {
    "colab": {
      "provenance": []
    },
    "kernelspec": {
      "name": "python3",
      "display_name": "Python 3"
    },
    "language_info": {
      "name": "python"
    }
  },
  "cells": [
    {
      "cell_type": "markdown",
      "source": [
        "# 18. 4Sum\n",
        "\n",
        "Given an array nums of n integers, return an array of all the unique quadruplets $[nums[a], nums[b], nums[c], nums[d]]$ such that:\n",
        "\n",
        "* $0 <= a, b, c, d < n$\n",
        "* $a$, $b$, $c$, and $d$ are distinct.\n",
        "* $nums[a] + nums[b] + nums[c] + nums[d] == target$\n",
        "\n",
        "You may return the answer in any order."
      ],
      "metadata": {
        "id": "LCn2f7Evanle"
      }
    },
    {
      "cell_type": "markdown",
      "source": [
        "## Example 1:\n",
        "```\n",
        "Input: nums = [1,0,-1,0,-2,2], target = 0\n",
        "Output: [[-2,-1,1,2],[-2,0,0,2],[-1,0,0,1]]\n",
        "```"
      ],
      "metadata": {
        "id": "G3TdKeGUbVft"
      }
    },
    {
      "cell_type": "markdown",
      "source": [
        "## Example 2:\n",
        "```\n",
        "Input: nums = [2,2,2,2,2], target = 8\n",
        "Output: [[2,2,2,2]]\n",
        "```"
      ],
      "metadata": {
        "id": "F8lrEEVxbbiy"
      }
    },
    {
      "cell_type": "markdown",
      "source": [
        "## Solution 1:\n",
        "$O(N^4)$"
      ],
      "metadata": {
        "id": "kSJMxCo1bfpT"
      }
    },
    {
      "cell_type": "code",
      "execution_count": null,
      "metadata": {
        "id": "xcUAHTwlalJ7"
      },
      "outputs": [],
      "source": [
        "class Solution:\n",
        "    def fourSum(self, nums: List[int], target: int) -> List[List[int]]:\n",
        "        nums.sort()\n",
        "        ans = list()\n",
        "        for i in range(len(nums)-3):\n",
        "            for j in range(i+1, len(nums)-2):\n",
        "                for k in range(j+1, len(nums)-1):\n",
        "                    for m in range(k+1, len(nums)):\n",
        "                        if nums[i]+nums[j]+nums[k]+nums[m]==target:\n",
        "                            if [nums[i],nums[j],nums[k], nums[m]] not in  ans:\n",
        "                                ans.append([nums[i],nums[j],nums[k],nums[m]])\n",
        "        return ans"
      ]
    },
    {
      "cell_type": "markdown",
      "source": [
        "## Solution 2:\n",
        "$O(N^3)$"
      ],
      "metadata": {
        "id": "dBzjBxGye6z8"
      }
    },
    {
      "cell_type": "code",
      "source": [
        "class Solution:\n",
        "    def fourSum(self, nums: List[int], target: int) -> List[List[int]]:\n",
        "        nums.sort()\n",
        "        ans = list()\n",
        "        check = set(nums)\n",
        "        for i in range(len(nums)-3):\n",
        "            for j in range(i+1, len(nums)-2):\n",
        "                for k in range(j+1, len(nums)-1):\n",
        "                    n1 = nums[i]\n",
        "                    n2 = nums[j]\n",
        "                    n3 = nums[k]\n",
        "                    n4 = target -n1 -n2 -n3\n",
        "                    if n4 not in check:\n",
        "                        continue\n",
        "                    if n4 == n3 and n3!=nums[k+1]:\n",
        "                        continue\n",
        "                    if n4 >= n3 and [n1, n2, n3, n4] not in  ans:\n",
        "                        ans.append([n1, n2, n3, n4])\n",
        "        return ans"
      ],
      "metadata": {
        "id": "vlPgbp68e5F6"
      },
      "execution_count": null,
      "outputs": []
    }
  ]
}