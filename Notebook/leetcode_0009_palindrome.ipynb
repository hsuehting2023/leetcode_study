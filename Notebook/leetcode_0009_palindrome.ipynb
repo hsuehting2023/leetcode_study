{
  "nbformat": 4,
  "nbformat_minor": 0,
  "metadata": {
    "colab": {
      "provenance": []
    },
    "kernelspec": {
      "name": "python3",
      "display_name": "Python 3"
    },
    "language_info": {
      "name": "python"
    }
  },
  "cells": [
    {
      "cell_type": "markdown",
      "source": [
        "Given an integer $x$, return $true$ if $x$ is a \n",
        "__palindrome__\n",
        ", and $false$ otherwise."
      ],
      "metadata": {
        "id": "eH4mWBHOqg0O"
      }
    },
    {
      "cell_type": "markdown",
      "source": [
        "## Example 1:\n",
        "```\n",
        "Input: x = 121\n",
        "Output: true\n",
        "Explanation: 121 reads as 121 from left to right and from right to left.\n",
        "```"
      ],
      "metadata": {
        "id": "BDmPppl9qyWq"
      }
    },
    {
      "cell_type": "markdown",
      "source": [
        "## Example 2:\n",
        "```\n",
        "Input: x = -121\n",
        "Output: false\n",
        "Explanation: From left to right, it reads -121. From right to left, it becomes 121-. Therefore it is not a palindrome.\n",
        "```"
      ],
      "metadata": {
        "id": "I4VfMsbbq6Xg"
      }
    },
    {
      "cell_type": "markdown",
      "source": [
        "## Example 3:\n",
        "```\n",
        "Input: x = 10\n",
        "Output: false\n",
        "Explanation: Reads 01 from right to left. Therefore it is not a palindrome.\n",
        "\n",
        "```"
      ],
      "metadata": {
        "id": "0zZYQunXrCsu"
      }
    },
    {
      "cell_type": "code",
      "execution_count": null,
      "metadata": {
        "id": "ObI3Shv1o-wL"
      },
      "outputs": [],
      "source": [
        "class Solution:\n",
        "    def isPalindrome(self, x: int) -> bool:\n",
        "        if x < 0:\n",
        "            return False\n",
        "        str1= str(x)\n",
        "        str2 =str1[::-1]\n",
        "        x2 = int(str2)\n",
        "        if x == x2:\n",
        "            return True\n",
        "        return False"
      ]
    }
  ]
}