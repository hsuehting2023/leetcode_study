{
  "nbformat": 4,
  "nbformat_minor": 0,
  "metadata": {
    "colab": {
      "provenance": []
    },
    "kernelspec": {
      "name": "python3",
      "display_name": "Python 3"
    },
    "language_info": {
      "name": "python"
    }
  },
  "cells": [
    {
      "cell_type": "markdown",
      "source": [
        "# 04. Median of Two Sorted Arrays\n",
        "\n"
      ],
      "metadata": {
        "id": "kf4w3n7k6IQx"
      }
    },
    {
      "cell_type": "markdown",
      "source": [
        "## Method-1 O(n)"
      ],
      "metadata": {
        "id": "tTG_jNHh6nLF"
      }
    },
    {
      "cell_type": "code",
      "execution_count": null,
      "metadata": {
        "id": "uNC9RuZr6GtX"
      },
      "outputs": [],
      "source": [
        "class Solution:\n",
        "    def findMedianSortedArrays(self, nums1: List[int], nums2: List[int]) -> float:\n",
        "        m1=len(nums1)\n",
        "        m2=len(nums2)\n",
        "        m3=m1+m2\n",
        "        nums3=list()\n",
        "        i=0\n",
        "        j=0\n",
        "        for k in range(m3):\n",
        "            if i==m1:\n",
        "                nums3.append(nums2[j])\n",
        "                j=j+1\n",
        "            elif j==m2 or nums1[i] < nums2[j]:\n",
        "                nums3.append(nums1[i])\n",
        "                i=i+1\n",
        "            else:\n",
        "                nums3.append(nums2[j])\n",
        "                j=j+1\n",
        "        if m3%2==0:#even偶數\n",
        "            return (nums3[m3//2-1]+nums3[m3//2])/2\n",
        "        else:\n",
        "            return float(nums3[m3//2])"
      ]
    },
    {
      "cell_type": "markdown",
      "source": [
        "__Binary search__\n",
        "\n",
        "$m1=len(nums1), m2=len(nums2), m3=m1+m2$\n",
        "\n",
        "如果m3是奇數，那我們找 __nums3(m3//2)__\n",
        "如果m3是偶數，那我們找 __nums3(m3//2)+nums3(m3//2+1)__\n",
        "但是不能真的把__nums3__全部排出來，只要找這1或2個數字\n",
        "\n",
        "令$i$是nums1的分隔線位置\n",
        "\n",
        "---\n",
        "\n",
        "令$j$是nums2的分隔線位置\n",
        "\n",
        "則$nums1[i-1] < nums2[j]$ and $nums2[j-1] < nums1[i] $ \n",
        "\n",
        "左邊長度 $i+j$  <--|--> 右邊長度 $m_1-i+m_2-j$ \n",
        "\n"
      ],
      "metadata": {
        "id": "iQsdABDn6l2t"
      }
    },
    {
      "cell_type": "markdown",
      "source": [
        "__奇偶數問題__\n",
        "\n",
        "####奇數, 例如:11個 0 1 2 3 4 5 6 7 8 9 10 (分隔線左邊比右邊多一個)\n",
        "\n",
        "如果$m3=m1+m2$是奇數-> 一半是nums3[i+j+1], 可能是nums1[i] 或 nums2[j]\n",
        "\n",
        "---\n",
        "\n",
        "####偶數, 例如:10個 0 1 2 3 4 5 6 7 8 9 (分隔線左邊和右邊一樣多)\n",
        "\n",
        "如果$m3=m1+m2$是奇數-> 一半是(nums3[i+j+1]+nums3[i+j+2])/2, 左邊可能是nums1[i] 或 nums2[j], 右邊可能是nums1[i+1] 或 nums2[j+1]\n"
      ],
      "metadata": {
        "id": "-aEQxN4Tg8j7"
      }
    },
    {
      "cell_type": "code",
      "source": [
        "class Solution:\n",
        "    def findMedianSortedArrays(self, nums1: List[int], nums2: List[int]) -> float:\n",
        "        import sys\n",
        "        m=len(nums1)\n",
        "        n=len(nums2)\n",
        "        if m >n:\n",
        "            nums1, nums2=nums2, nums1\n",
        "            m, n=n,m\n",
        "        total= m+n\n",
        "        half = (total+1)//2 #奇數(分隔線左邊比右邊多一個) 偶數(分隔線左邊和右邊一樣多)\n",
        "        left=0\n",
        "        right=m\n",
        "\n",
        "        while left < right:\n",
        "            i = left +(right -left +1)//2\n",
        "            j = half - i\n",
        "            if nums1[i-1] > nums2[j]:\n",
        "                right = i - 1\n",
        "            else:\n",
        "                left  = i\n",
        "\n",
        "\n",
        "        i=left\n",
        "        j=half-i\n",
        "        iLeft =  -sys.maxsize - 1\n",
        "        if i>0:\n",
        "            iLeft  = nums1[i-1]\n",
        "        iRight = sys.maxsize\n",
        "        if i<m:\n",
        "            iRight = nums1[i]\n",
        "        jLeft = -sys.maxsize - 1\n",
        "        if j>0:\n",
        "            jLeft  = nums2[j-1]\n",
        "        jRight = sys.maxsize\n",
        "        if j<n:\n",
        "            jRight = nums2[j]\n",
        "\n",
        "        if total%2==1:#奇數\n",
        "            return float(max(iLeft, jLeft))\n",
        "        else:\n",
        "            return (max(iLeft, jLeft)+min(iRight, jRight))/2"
      ],
      "metadata": {
        "id": "HNbHUEdN7sda"
      },
      "execution_count": null,
      "outputs": []
    }
  ]
}