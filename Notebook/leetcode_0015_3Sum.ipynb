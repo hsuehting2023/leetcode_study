{
  "nbformat": 4,
  "nbformat_minor": 0,
  "metadata": {
    "colab": {
      "provenance": []
    },
    "kernelspec": {
      "name": "python3",
      "display_name": "Python 3"
    },
    "language_info": {
      "name": "python"
    }
  },
  "cells": [
    {
      "cell_type": "markdown",
      "source": [
        "# 15. 3Sum\n",
        "\n",
        "Given an integer array nums, return all the triplets $[nums[i], nums[j], nums[k]]$ such that $i != j$, $i != k$, and $j != k$, and $nums[i] + nums[j] + nums[k] == 0$."
      ],
      "metadata": {
        "id": "lFIb1xAtTeAX"
      }
    },
    {
      "cell_type": "markdown",
      "source": [
        "## Example 1:\n",
        "```\n",
        "Input: nums = [-1,0,1,2,-1,-4]\n",
        "Output: [[-1,-1,2],[-1,0,1]]\n",
        "Explanation: \n",
        "nums[0] + nums[1] + nums[2] = (-1) + 0 + 1 = 0.\n",
        "nums[1] + nums[2] + nums[4] = 0 + 1 + (-1) = 0.\n",
        "nums[0] + nums[3] + nums[4] = (-1) + 2 + (-1) = 0.\n",
        "The distinct triplets are [-1,0,1] and [-1,-1,2].\n",
        "Notice that the order of the output and the order of the triplets does not matter.\n",
        "```"
      ],
      "metadata": {
        "id": "AlGgpPnEUWg8"
      }
    },
    {
      "cell_type": "markdown",
      "source": [
        "## Example 2:\n",
        "```\n",
        "Input: nums = [0,1,1]\n",
        "Output: []\n",
        "Explanation: The only possible triplet does not sum up to 0.\n",
        "```"
      ],
      "metadata": {
        "id": "Tyx_BJMoUhPM"
      }
    },
    {
      "cell_type": "markdown",
      "source": [
        "## Example 3:\n",
        "```\n",
        "Input: nums = [0,0,0]\n",
        "Output: [[0,0,0]]\n",
        "Explanation: The only possible triplet sums up to 0.\n",
        "```"
      ],
      "metadata": {
        "id": "_oJwKJ27UnwL"
      }
    },
    {
      "cell_type": "markdown",
      "source": [
        "## Solution 1:\n",
        "$O(N^3)$"
      ],
      "metadata": {
        "id": "AKRLPQb7WBlK"
      }
    },
    {
      "cell_type": "code",
      "execution_count": null,
      "metadata": {
        "id": "qpxUimfZTdpF"
      },
      "outputs": [],
      "source": [
        "class Solution:\n",
        "    def threeSum(self, nums: List[int]) -> List[List[int]]:\n",
        "        nums.sort()\n",
        "        ans = list()\n",
        "        for i in range(len(nums)-2):\n",
        "            for j in range(i+1, len(nums)-1):\n",
        "                for k in range(j+1, len(nums)):\n",
        "                    if nums[i]+nums[j]+nums[k]==0:\n",
        "                        if [nums[i],nums[j],nums[k]] not in  ans:\n",
        "                            ans.append([nums[i],nums[j],nums[k]])\n",
        "        return ans"
      ]
    },
    {
      "cell_type": "markdown",
      "source": [
        "## Solution 2:\n",
        "$O(N^2)$"
      ],
      "metadata": {
        "id": "c8YuS0dOWPR4"
      }
    },
    {
      "cell_type": "code",
      "source": [
        "class Solution:\n",
        "    def threeSum(self, nums: List[int]) -> List[List[int]]:\n",
        "        nums.sort()\n",
        "        ans = list()\n",
        "        for i in range(len(nums)-2):\n",
        "            j = i + 1\n",
        "            k = len(nums)-1\n",
        "            while j < k:\n",
        "                addup=nums[i]+nums[j]+nums[k]\n",
        "                if addup < 0:\n",
        "                    j = j + 1\n",
        "                elif addup > 0:\n",
        "                    k = k - 1\n",
        "                else:\n",
        "                    if [nums[i],nums[j],nums[k]] not in  ans:\n",
        "                        ans.append([nums[i],nums[j],nums[k]])\n",
        "                    j = j + 1\n",
        "                    k = k - 1\n",
        "        return ans"
      ],
      "metadata": {
        "id": "LQycfWjHYmTG"
      },
      "execution_count": null,
      "outputs": []
    }
  ]
}